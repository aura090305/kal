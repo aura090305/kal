{
  "nbformat": 4,
  "nbformat_minor": 0,
  "metadata": {
    "colab": {
      "provenance": []
    },
    "kernelspec": {
      "name": "python3",
      "display_name": "Python 3"
    },
    "language_info": {
      "name": "python"
    }
  },
  "cells": [
    {
      "cell_type": "markdown",
      "source": [
        "## Transformasi Linear"
      ],
      "metadata": {
        "id": "4lD3p8Tz2jbT"
      }
    },
    {
      "cell_type": "markdown",
      "source": [
        "### **Soal**\n",
        "\n",
        "Tunjukkan bahwa transformasi linier $T: \\mathbb{R}^2 \\to \\mathbb{R}^2$ yang dinyatakan oleh matriks:\n",
        "\n",
        "$\n",
        "A = \\begin{bmatrix}\n",
        "\\cos\\theta & -\\sin\\theta \\\\\n",
        "\\sin\\theta & \\cos\\theta\n",
        "\\end{bmatrix}\n",
        "$\n",
        "\n",
        "memiliki sifat sebagai rotasi dalam $\\mathbb{R}^2$ berlawanan arah jarum jam dengan sudut $\\theta$.\n",
        "\n",
        "---\n",
        "\n",
        "### **Solusi**\n",
        "\n",
        "Misalkan sebuah vektor dalam koordinat Kartesius dinyatakan dalam bentuk koordinat polar sebagai:\n",
        "\n",
        "$\n",
        "\\mathbf{v} = \\begin{bmatrix} x \\\\ y \\end{bmatrix} = \\begin{bmatrix} r \\cos\\alpha \\\\ r \\sin\\alpha \\end{bmatrix}\n",
        "$\n",
        "\n",
        "dengan $r$ merupakan panjang (norma) dari vektor $\\mathbf{v}$, dan $\\alpha$ adalah sudut antara sumbu-$x$ positif dengan arah vektor $\\mathbf{v}$.\n",
        "\n",
        "Transformasikan vektor $\\mathbf{v}$ menggunakan matriks $A$:\n",
        "\n",
        "$\n",
        "A \\mathbf{v} = \\begin{bmatrix}\n",
        "\\cos\\theta & -\\sin\\theta \\\\\n",
        "\\sin\\theta & \\cos\\theta\n",
        "\\end{bmatrix}\n",
        "\\begin{bmatrix}\n",
        "r \\cos\\alpha \\\\\n",
        "r \\sin\\alpha\n",
        "\\end{bmatrix}\n",
        "$\n",
        "\n",
        "Dengan melakukan perkalian matriks, diperoleh:\n",
        "\n",
        "$\n",
        "A \\mathbf{v} = \\begin{bmatrix}\n",
        "r(\\cos\\theta \\cos\\alpha - \\sin\\theta \\sin\\alpha) \\\\\n",
        "r(\\sin\\theta \\cos\\alpha + \\cos\\theta \\sin\\alpha)\n",
        "\\end{bmatrix}\n",
        "$\n",
        "\n",
        "Gunakan identitas trigonometri penjumlahan sudut:\n",
        "\n",
        "$\n",
        "\\cos(\\alpha + \\theta) = \\cos\\alpha \\cos\\theta - \\sin\\alpha \\sin\\theta \\quad \\text{(Identitas kosinus)}\n",
        "$\n",
        "\n",
        "$\n",
        "\\sin(\\alpha + \\theta) = \\sin\\alpha \\cos\\theta + \\cos\\alpha \\sin\\theta \\quad \\text{(Identitas sinus)}\n",
        "$\n",
        "\n",
        "Sehingga hasil transformasi dapat ditulis ulang sebagai:\n",
        "\n",
        "$\n",
        "A \\mathbf{v} = r \\begin{bmatrix} \\cos(\\alpha + \\theta) \\\\ \\sin(\\alpha + \\theta) \\end{bmatrix}\n",
        "$\n",
        "\n",
        "Hasil ini menunjukkan bahwa vektor hasil transformasi memiliki panjang yang tetap yaitu $r$, namun sudutnya bertambah sebesar $\\theta$. Artinya, vektor tersebut telah diputar sebesar sudut $\\theta$ berlawanan arah jarum jam terhadap titik asal.\n",
        "\n",
        "---\n",
        "\n",
        "### **Kesimpulan**\n",
        "\n",
        "Transformasi linier $T$ dengan matriks:\n",
        "\n",
        "$\n",
        "A = \\begin{bmatrix}\n",
        "\\cos\\theta & -\\sin\\theta \\\\\n",
        "\\sin\\theta & \\cos\\theta\n",
        "\\end{bmatrix}\n",
        "$\n",
        "\n",
        "merupakan transformasi rotasi terhadap titik pusat (titik asal) sebesar sudut $\\theta$ dalam arah berlawanan jarum jam di bidang $\\mathbb{R}^2$. Transformasi ini mempertahankan panjang vektor dan hanya mengubah arah sudutnya.\n",
        "\n",
        "---\n"
      ],
      "metadata": {
        "id": "ud5MdoQm2doi"
      }
    }
  ]
}