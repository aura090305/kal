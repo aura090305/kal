{
  "nbformat": 4,
  "nbformat_minor": 0,
  "metadata": {
    "colab": {
      "provenance": []
    },
    "kernelspec": {
      "name": "python3",
      "display_name": "Python 3"
    },
    "language_info": {
      "name": "python"
    }
  },
  "cells": [
    {
      "cell_type": "markdown",
      "source": [
        "# Matriks\n",
        "## **Definisi Matriks**\n",
        "Matriks adalah suatu susunan bilangan yang disusun dalam baris dan kolom serta ditempatkan dalam tanda kurung (baik kurung siku [] maupun kurung biasa ()). Setiap elemen dalam matriks ditempatkan sesuai dengan posisi baris dan kolomnya.\n",
        "\n",
        "## **Operasi Aritmatika Matriks**\n",
        "Beberapa operasi aritmatika dasar pada matriks meliputi:\n",
        "\n",
        "### Penjumlahan Matriks\n",
        "Penjumlahan matriks adalah operasi matematis yang dilakukan dengan menjumlahkan elemen-elemen yang bersesuaian dari dua matriks yang memiliki ukuran yang sama.\n",
        "\n",
        "#### Konsep Penjumlahan Matriks\n",
        "Berikut contoh penjumlahan matriks\n"
      ],
      "metadata": {
        "id": "TA4lmByFyxKo"
      }
    },
    {
      "cell_type": "code",
      "source": [
        "import sympy as sy\n",
        "\n",
        "# Definisi matriks dengan SymPy\n",
        "a_sy = sy.Matrix([[7, 2, 9], [3, 5, 1], [4, 8, 6]])\n",
        "b_sy = sy.Matrix([[1, -3, 4], [6, 2, -5], [0, 7, 3]])\n",
        "\n",
        "# Penjumlahan matriks dengan SymPy\n",
        "sum_sympy = a_sy + b_sy\n",
        "\n",
        "print(\"Penjumlahan Matriks:\")\n",
        "\n",
        "def display_side_by_side(m1, m2, result):\n",
        "    rows = len(m1.tolist())\n",
        "    for i in range(rows):\n",
        "        print(m1.row(i), \" + \", m2.row(i), \" = \", result.row(i))\n",
        "\n",
        "display_side_by_side(a_sy, b_sy, sum_sympy)"
      ],
      "metadata": {
        "colab": {
          "base_uri": "https://localhost:8080/"
        },
        "id": "PjSnt4FUNeWW",
        "outputId": "c4c32226-606b-4acd-e3f0-fcae5fc2b6e9"
      },
      "execution_count": 3,
      "outputs": [
        {
          "output_type": "stream",
          "name": "stdout",
          "text": [
            "Penjumlahan Matriks:\n",
            "Matrix([[7, 2, 9]])  +  Matrix([[1, -3, 4]])  =  Matrix([[8, -1, 13]])\n",
            "Matrix([[3, 5, 1]])  +  Matrix([[6, 2, -5]])  =  Matrix([[9, 7, -4]])\n",
            "Matrix([[4, 8, 6]])  +  Matrix([[0, 7, 3]])  =  Matrix([[4, 15, 9]])\n"
          ]
        }
      ]
    },
    {
      "cell_type": "markdown",
      "source": [
        "### Pengurangan Matriks\n",
        "Syarat pengurangan matriks pun sama dengan penjumlahan, yaitu kedua matriks harus memiliki ordo yang sama sehingga bisa dioperasikan.\n",
        "#### Konsep Pengurangan Matriks\n",
        "Berikut contoh pengurangan matriks"
      ],
      "metadata": {
        "id": "-OPTcD67QOxD"
      }
    },
    {
      "cell_type": "code",
      "source": [
        "import sympy as sy\n",
        "\n",
        "# Definisi matriks dengan SymPy\n",
        "a_sy = sy.Matrix([[5, 9, 3], [7, 2, 6], [4, 8, 1]])\n",
        "b_sy = sy.Matrix([[1, -2, 7], [3, 5, -4], [6, 0, 2]])\n",
        "\n",
        "# Pengurangan matriks dengan SymPy\n",
        "diff_sympy = a_sy - b_sy\n",
        "\n",
        "print(\"Pengurangan Matriks:\")\n",
        "\n",
        "def display_side_by_side(m1, m2, result):\n",
        "    rows = len(m1.tolist())\n",
        "    for i in range(rows):\n",
        "        print(m1.row(i), \" - \", m2.row(i), \" = \", result.row(i))\n",
        "\n",
        "display_side_by_side(a_sy, b_sy, diff_sympy)"
      ],
      "metadata": {
        "colab": {
          "base_uri": "https://localhost:8080/"
        },
        "id": "XCIY-QEeQPFf",
        "outputId": "eb2501fd-3e7c-4b21-b97d-74ff923cdd44"
      },
      "execution_count": 4,
      "outputs": [
        {
          "output_type": "stream",
          "name": "stdout",
          "text": [
            "Pengurangan Matriks:\n",
            "Matrix([[5, 9, 3]])  -  Matrix([[1, -2, 7]])  =  Matrix([[4, 11, -4]])\n",
            "Matrix([[7, 2, 6]])  -  Matrix([[3, 5, -4]])  =  Matrix([[4, -3, 10]])\n",
            "Matrix([[4, 8, 1]])  -  Matrix([[6, 0, 2]])  =  Matrix([[-2, 8, -1]])\n"
          ]
        }
      ]
    },
    {
      "cell_type": "markdown",
      "source": [
        "### Perkalian Matriks\n",
        "\n",
        "Perkalian matriks adalah operasi matematika yang dilakukan antara dua matriks atau antara matriks dan skalar. Operasi ini memiliki aturan tertentu yang harus dipenuhi agar dapat dilakukan dengan benar.\n",
        "\n",
        "**Perkalian Matriks dengan Matriks**\n",
        "\n",
        "Perkalian antara dua matriks hanya dapat dilakukan jika jumlah kolom matriks pertama sama dengan jumlah baris matriks kedua. Jika matriks A berukuran 𝑚 × 𝑛\n",
        "dan matriks B berukuran 𝑛 × 𝑝 , maka hasil perkalian A × B adalah matriks C yang berukuran 𝑚 × 𝑝.\n",
        "\n",
        "#### Konsep Perkalian Matriks dengan Matriks\n",
        "Berikut contoh perkalian matriks dengan matriks"
      ],
      "metadata": {
        "id": "KVMnvqa6F52v"
      }
    },
    {
      "cell_type": "code",
      "source": [
        "import sympy as sy\n",
        "\n",
        "# Definisi matriks dengan SymPy\n",
        "a_sy = sy.Matrix([[3, 7, 2], [5, 1, 6], [4, 8, 9]])\n",
        "b_sy = sy.Matrix([[2, -3, 5], [7, 4, -1], [0, 6, 3]])\n",
        "\n",
        "# Perkalian matriks dengan SymPy\n",
        "prod_sympy = a_sy * b_sy\n",
        "\n",
        "print(\"Perkalian Matriks dengan Matriks:\")\n",
        "\n",
        "def display_side_by_side(m1, m2, result):\n",
        "    rows = len(m1.tolist())\n",
        "    for i in range(rows):\n",
        "        print(m1.row(i), \" * \", m2, \" = \", result.row(i))\n",
        "\n",
        "display_side_by_side(a_sy, b_sy, prod_sympy)\n"
      ],
      "metadata": {
        "colab": {
          "base_uri": "https://localhost:8080/"
        },
        "id": "bme09TIwF6vo",
        "outputId": "a75772fc-0f7b-4c92-8b5f-ef1142404fcb"
      },
      "execution_count": 5,
      "outputs": [
        {
          "output_type": "stream",
          "name": "stdout",
          "text": [
            "Perkalian Matriks dengan Matriks:\n",
            "Matrix([[3, 7, 2]])  *  Matrix([[2, -3, 5], [7, 4, -1], [0, 6, 3]])  =  Matrix([[55, 31, 14]])\n",
            "Matrix([[5, 1, 6]])  *  Matrix([[2, -3, 5], [7, 4, -1], [0, 6, 3]])  =  Matrix([[17, 25, 42]])\n",
            "Matrix([[4, 8, 9]])  *  Matrix([[2, -3, 5], [7, 4, -1], [0, 6, 3]])  =  Matrix([[64, 74, 39]])\n"
          ]
        }
      ]
    },
    {
      "cell_type": "markdown",
      "source": [
        "**Perkalian Matriks dengan Skalar**\n",
        "\n",
        "Perkalian antara matriks dan skalar dilakukan dengan mengalikan setiap elemen dalam matriks dengan nilai skalar tersebut.\n",
        "\n",
        "#### Konsep Perkalian Matriks dengan Skalar\n",
        "Berikut contoh perkalian matriks dengan skalar"
      ],
      "metadata": {
        "id": "gG7zObEJzTH2"
      }
    },
    {
      "cell_type": "code",
      "source": [
        "import sympy as sy\n",
        "\n",
        "# Definisi matriks dengan SymPy\n",
        "a_sy = sy.Matrix([[5, 3, 7], [2, 6, 9], [4, 8, 1]])\n",
        "\n",
        "# Definisi skalar\n",
        "scalar = 4\n",
        "\n",
        "# Perkalian matriks dengan skalar\n",
        "prod_sympy = scalar * a_sy\n",
        "\n",
        "print(\"Perkalian Matriks dengan Skalar:\")\n",
        "\n",
        "def display_scalar_multiplication(scalar, matrix, result):\n",
        "    rows = len(matrix.tolist())\n",
        "    for i in range(rows):\n",
        "        print(f\"{scalar} * {matrix.row(i)} = {result.row(i)}\")\n",
        "\n",
        "display_scalar_multiplication(scalar, a_sy, prod_sympy)"
      ],
      "metadata": {
        "id": "VwiyOr7ezTXU",
        "colab": {
          "base_uri": "https://localhost:8080/"
        },
        "outputId": "e4b01a54-979a-401d-b2e2-35abdd8787dd"
      },
      "execution_count": 6,
      "outputs": [
        {
          "output_type": "stream",
          "name": "stdout",
          "text": [
            "Perkalian Matriks dengan Skalar:\n",
            "4 * Matrix([[5, 3, 7]]) = Matrix([[20, 12, 28]])\n",
            "4 * Matrix([[2, 6, 9]]) = Matrix([[8, 24, 36]])\n",
            "4 * Matrix([[4, 8, 1]]) = Matrix([[16, 32, 4]])\n"
          ]
        }
      ]
    }
  ]
}